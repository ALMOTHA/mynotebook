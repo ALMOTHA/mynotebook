{
 "cells": [
  {
   "cell_type": "markdown",
   "metadata": {},
   "source": [
    "<center>\n",
    "    <img src=\"https://cf-courses-data.s3.us.cloud-object-storage.appdomain.cloud/IBMDeveloperSkillsNetwork-DS0105EN-SkillsNetwork/labs/Module2/images/SN_web_lightmode.png\" width=\"300\" alt=\"cognitiveclass.ai logo\">\n",
    "</center>\n"
   ]
  },
  {
   "cell_type": "markdown",
   "metadata": {},
   "source": [
    "#### Add your code below following the instructions given in the course\n"
   ]
  },
  {
   "cell_type": "code",
   "execution_count": null,
   "metadata": {},
   "outputs": [
    {
     "name": "stdout",
     "output_type": "stream",
     "text": [
      "hello, world\n"
     ]
    }
   ],
   "source": [
    "print(\"hello, world\")"
   ]
  },
  {
   "cell_type": "code",
   "execution_count": 1,
   "metadata": {},
   "outputs": [
    {
     "name": "stdout",
     "output_type": "stream",
     "text": [
      "discount valu 10.0\n",
      "The price after discount 40.0\n"
     ]
    }
   ],
   "source": [
    "\n",
    "original_price = 50\n",
    "\n",
    "discount_rate = 0.20  \n",
    "\n",
    "\n",
    "discount_amount = original_price * discount_rate\n",
    "\n",
    "\n",
    "final_price = original_price - discount_amount\n",
    "\n",
    "print(\"discount valu\", discount_amount)\n",
    "print(\"The price after discount\", final_price)\n"
   ]
  },
  {
   "cell_type": "markdown",
   "metadata": {},
   "source": [
    "#In this course, we will learn about data science languages.\n",
    "1-python\n",
    "2-R \n",
    "3-SQL"
   ]
  },
  {
   "cell_type": "markdown",
   "metadata": {},
   "source": [
    "## In this course, we will learn about data science libraries.\n",
    "1- NumPy\n",
    "2- Pandas\n",
    "3- Matplotlip"
   ]
  },
  {
   "cell_type": "markdown",
   "metadata": {},
   "source": [
    "# In this course, we will learn about data science tools.\n",
    "\n",
    "| Tool            | Category              |\n",
    "|-----------------|-----------------------|\n",
    "| Jupyter Notebook | Notebook Environment |\n",
    "| RStudio         | IDE for R             |\n",
    "| TensorFlow      | Machine Learning      |\n",
    "| Apache Spark    | Big Data Processing   |\n",
    "| Pandas          | Data Analysis Library |\n"
   ]
  },
  {
   "cell_type": "code",
   "execution_count": 6,
   "metadata": {},
   "outputs": [
    {
     "data": {
      "text/plain": [
       "80.0"
      ]
     },
     "execution_count": 6,
     "metadata": {},
     "output_type": "execute_result"
    }
   ],
   "source": [
    "# Example of arithmetic expression in Python\n",
    "# Calculate discounted price\n",
    "\n",
    "# Original price\n",
    "price = 100  \n",
    "\n",
    "# Discount rate (20%)\n",
    "discount = 0.2  \n",
    "\n",
    "# Calculate the price after discount\n",
    "discounted_price = price * (1 - discount)\n",
    "\n",
    "# Display the result\n",
    "discounted_price\n"
   ]
  },
  {
   "cell_type": "code",
   "execution_count": 7,
   "metadata": {},
   "outputs": [
    {
     "name": "stdout",
     "output_type": "stream",
     "text": [
      "The result is: 17\n"
     ]
    }
   ],
   "source": [
    "# This code multiplies two integers and adds another number\n",
    "\n",
    "a = 5   # first integer\n",
    "b = 3   # second integer\n",
    "c = 2   # number to add\n",
    "\n",
    "result = (a * b) + c\n",
    "print(\"The result is:\", result)\n"
   ]
  },
  {
   "cell_type": "code",
   "execution_count": 8,
   "metadata": {},
   "outputs": [
    {
     "data": {
      "text/plain": [
       "300"
      ]
     },
     "execution_count": 8,
     "metadata": {},
     "output_type": "execute_result"
    }
   ],
   "source": [
    "# Convert hours to minutes\n",
    "\n",
    "hours = 5   \n",
    "minutes = hours * 60\n",
    "minutes\n"
   ]
  },
  {
   "cell_type": "markdown",
   "metadata": {},
   "source": [
    "# Price Discount Objectives\n",
    "\n",
    "In this exercise, we will list some objectives related to price discounts:\n",
    "\n",
    "- Increase customer satisfaction  \n",
    "- Attract new customers  \n",
    "- Boost sales  \n",
    "- Clear old inventory\n"
   ]
  },
  {
   "cell_type": "markdown",
   "metadata": {},
   "source": [
    "# Price Discount Objectives\n",
    "\n",
    "In this exercise, we will list some objectives related to price discounts:\n",
    "\n",
    "- Increase customer satisfaction  \n",
    "- Attract new customers  \n",
    "- Boost sales  \n",
    "- Clear old inventory\n",
    "\n",
    "-this notebook was created by[almuthanna]"
   ]
  }
 ],
 "metadata": {
  "kernelspec": {
   "display_name": "Python 3",
   "language": "python",
   "name": "python3"
  },
  "language_info": {
   "codemirror_mode": {
    "name": "ipython",
    "version": 3
   },
   "file_extension": ".py",
   "mimetype": "text/x-python",
   "name": "python",
   "nbconvert_exporter": "python",
   "pygments_lexer": "ipython3",
   "version": "3.11.5"
  }
 },
 "nbformat": 4,
 "nbformat_minor": 4
}
